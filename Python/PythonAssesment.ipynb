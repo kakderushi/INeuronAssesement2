{
 "cells": [
  {
   "cell_type": "markdown",
   "id": "64c92aaf",
   "metadata": {},
   "source": [
    " Question 1)  You have an input dictionary given,\n",
    "\n",
    "input_dict = {\"abc\":{\"def\":{\"ghi\":{\"jkl\":{\"mno\":{\"pqr\":{\"stu\":{\"vwx\":{\"yz\":\"you are finally here !!!\"}}}}}}}}}\n",
    "\n",
    "Task:  You have to write a Python function that will take this input and print it like that,\n",
    "\n",
    "output = {\"abc\":[\"def\",\"ghi\",\"jkl\",\"mno\",\"pqr\",\"stu\",\"vwx\",\"yz\"],\n",
    "\n",
    " \"def\":[\"ghi\",\"jkl\",\"mno\",\"pqr\",\"stu\",\"vwx\",\"yz\"],\n",
    " \n",
    " \"ghi\":[\"jkl\",\"mno\",\"pqr\",\"stu\",\"vwx\",\"yz\"],\n",
    " \n",
    " \"jkl\":[\"mno\",\"pqr\",\"stu\",\"vwx\",\"yz\"],\n",
    " \n",
    " \"mno\":[\"pqr\",\"stu\",\"vwx\",\"yz\"],\n",
    " \n",
    " \"pqr\":[\"stu\",\"vwx\",\"yz\"],\n",
    " \n",
    " \"stu\":[\"vwx\",\"yz\"],\n",
    " \n",
    " \"vwx\":[\"yz\"],\n",
    " \n",
    " \"yz\":[\"you are finally here !!!\"]}"
   ]
  },
  {
   "cell_type": "code",
   "execution_count": 15,
   "id": "761f42aa",
   "metadata": {},
   "outputs": [
    {
     "name": "stdout",
     "output_type": "stream",
     "text": [
      "{'abc': ['def.ghi.jkl.mno.pqr.stu.vwx.yz.yz']}\n"
     ]
    }
   ],
   "source": [
    "def build_nested_list(input_dict):\n",
    "    output_dict = {}\n",
    "\n",
    "    def traverse(dictionary, keys=None):\n",
    "        if keys is None:\n",
    "            keys = []\n",
    "        for key, value in dictionary.items():\n",
    "            current_keys = keys + [key]\n",
    "            if isinstance(value, dict):\n",
    "                traverse(value, current_keys)\n",
    "            else:\n",
    "                output_dict.setdefault(current_keys[0], []).append('.'.join(current_keys[1:]) + '.' + key)\n",
    "\n",
    "    traverse(input_dict)\n",
    "    return output_dict\n",
    "\n",
    "# Input dictionary\n",
    "input_dict = {\"abc\":{\"def\":{\"ghi\":{\"jkl\":{\"mno\":{\"pqr\":{\"stu\":{\"vwx\":{\"yz\":\"you are finally here !!!\"}}}}}}}}}\n",
    "\n",
    "# Generate the desired output dictionary\n",
    "output_dict = build_nested_list(input_dict)\n",
    "\n",
    "# Print the output dictionary\n",
    "print(output_dict)\n"
   ]
  },
  {
   "cell_type": "markdown",
   "id": "0e324f28",
   "metadata": {},
   "source": [
    "Question 2:\n",
    "Given an array of length ‘N’, where each element denotes the position of a stall. Now you have ‘N’ stalls and an integer ‘K’ which denotes the number of horses that are mad. To prevent the horses from hurting each other, you need to assign the horses to the stalls, such that the minimum distance between any two of them is as large as possible. Return the largest minimum distance.\n",
    "\n",
    "array: 1,2,4,8,9  &  k=3\n",
    "\n",
    "O/P: 3\n",
    "\n",
    "Explanation: 1st horse at stall 1, 2nd horse at stall 4 and 3rd horse at stall 8\n"
   ]
  },
  {
   "cell_type": "code",
   "execution_count": 3,
   "id": "ff912e53",
   "metadata": {},
   "outputs": [
    {
     "name": "stdout",
     "output_type": "stream",
     "text": [
      "3\n"
     ]
    }
   ],
   "source": [
    "def is_valid_distance(stalls, k, min_distance):\n",
    "    horses = 1\n",
    "    last_position = stalls[0]\n",
    "    for stall in stalls[1:]:\n",
    "        if stall - last_position >= min_distance:\n",
    "            horses += 1\n",
    "            last_position = stall\n",
    "        if horses == k:\n",
    "            return True\n",
    "    return False\n",
    "\n",
    "def largest_minimum_distance(stalls, k):\n",
    "    stalls.sort()\n",
    "    low = 1  # Minimum possible distance\n",
    "    high = stalls[-1] - stalls[0]  # Maximum possible distance\n",
    "    result = 0\n",
    "\n",
    "    while low <= high:\n",
    "        mid = (low + high) // 2\n",
    "        if is_valid_distance(stalls, k, mid):\n",
    "            result = mid\n",
    "            low = mid + 1\n",
    "        else:\n",
    "            high = mid - 1\n",
    "\n",
    "    return result\n",
    "\n",
    "# Example usage:\n",
    "stalls = [1, 2, 4, 8, 9]\n",
    "k = 3\n",
    "print(largest_minimum_distance(stalls, k))  # Output: 3\n"
   ]
  },
  {
   "cell_type": "markdown",
   "id": "68656d43",
   "metadata": {},
   "source": [
    "Question 3:\n",
    "Mr. Karthiken works in a door mat manufacturing company. One day, he designed a new door mat with the following specifications:\n",
    "\n",
    "             a) Mat size must be N X M. (N is an odd natural number, and M is 3 times N.)\n",
    "              b) The design should have ‘WELCOME’ written in the center.\n",
    "              c) The design pattern should only use |, . and – characters.\n",
    "\n",
    "    Sample Design is given above image, Write a python code for this.\n",
    "\n"
   ]
  },
  {
   "cell_type": "code",
   "execution_count": 4,
   "id": "6224133e",
   "metadata": {},
   "outputs": [
    {
     "name": "stdout",
     "output_type": "stream",
     "text": [
      "---------.|.---------\n",
      "------.|..|..|.------\n",
      "---.|..|..|..|..|.---\n",
      "-------WELCOME-------\n",
      "---.|..|..|..|..|.---\n",
      "------.|..|..|.------\n",
      "---------.|.---------\n"
     ]
    }
   ],
   "source": [
    "def create_door_mat(N, M):\n",
    "    if N % 2 == 0 or M != 3 * N:\n",
    "        print(\"Invalid dimensions\")\n",
    "        return\n",
    "\n",
    "    # Print top half\n",
    "    for i in range(1, N, 2):\n",
    "        pattern = \".|.\" * i\n",
    "        print(pattern.center(M, \"-\"))\n",
    "\n",
    "    # Print welcome message\n",
    "    print(\"WELCOME\".center(M, \"-\"))\n",
    "\n",
    "    # Print bottom half\n",
    "    for i in range(N - 2, 0, -2):\n",
    "        pattern = \".|.\" * i\n",
    "        print(pattern.center(M, \"-\"))\n",
    "\n",
    "# Example usage:\n",
    "N = 7  # N should be an odd natural number\n",
    "M = 21  # M should be 3 times N\n",
    "create_door_mat(N, M)\n"
   ]
  },
  {
   "cell_type": "markdown",
   "id": "c6fde199",
   "metadata": {},
   "source": [
    "Questions 4:\n",
    "Given an array nums of n integers, return an array of all the unique quadruplets [nums[a], nums[b], nums[c], nums[d]] such that:\n",
    "\n",
    "   a) 0 <= a, b, c, d < n\n",
    "   b) a, b, c, and d are distinct.\n",
    "   c) nums[a] + nums[b] + nums[c] + nums[d] == target\n",
    "    "
   ]
  },
  {
   "cell_type": "code",
   "execution_count": 5,
   "id": "7dc0d11f",
   "metadata": {},
   "outputs": [
    {
     "name": "stdout",
     "output_type": "stream",
     "text": [
      "[[-2, -1, 1, 2], [-2, 0, 0, 2], [-1, 0, 0, 1]]\n"
     ]
    }
   ],
   "source": [
    "def fourSum(nums, target):\n",
    "    nums.sort()\n",
    "    result = []\n",
    "    n = len(nums)\n",
    "    \n",
    "    for i in range(n - 3):\n",
    "        # Avoid duplicates\n",
    "        if i > 0 and nums[i] == nums[i - 1]:\n",
    "            continue\n",
    "        \n",
    "        for j in range(i + 1, n - 2):\n",
    "            # Avoid duplicates\n",
    "            if j > i + 1 and nums[j] == nums[j - 1]:\n",
    "                continue\n",
    "            \n",
    "            left = j + 1\n",
    "            right = n - 1\n",
    "            \n",
    "            while left < right:\n",
    "                current_sum = nums[i] + nums[j] + nums[left] + nums[right]\n",
    "                if current_sum == target:\n",
    "                    result.append([nums[i], nums[j], nums[left], nums[right]])\n",
    "                    \n",
    "                    # Avoid duplicates\n",
    "                    while left < right and nums[left] == nums[left + 1]:\n",
    "                        left += 1\n",
    "                    while left < right and nums[right] == nums[right - 1]:\n",
    "                        right -= 1\n",
    "                        \n",
    "                    left += 1\n",
    "                    right -= 1\n",
    "                elif current_sum < target:\n",
    "                    left += 1\n",
    "                else:\n",
    "                    right -= 1\n",
    "    \n",
    "    return result\n",
    "\n",
    "# Example usage:\n",
    "nums = [1, 0, -1, 0, -2, 2]\n",
    "target = 0\n",
    "print(fourSum(nums, target))  # Output: [[-2, -1, 1, 2], [-2, 0, 0, 2], [-1, 0, 0, 1]]\n"
   ]
  },
  {
   "cell_type": "code",
   "execution_count": null,
   "id": "5ba8e48c",
   "metadata": {},
   "outputs": [],
   "source": []
  }
 ],
 "metadata": {
  "kernelspec": {
   "display_name": "Python 3 (ipykernel)",
   "language": "python",
   "name": "python3"
  },
  "language_info": {
   "codemirror_mode": {
    "name": "ipython",
    "version": 3
   },
   "file_extension": ".py",
   "mimetype": "text/x-python",
   "name": "python",
   "nbconvert_exporter": "python",
   "pygments_lexer": "ipython3",
   "version": "3.10.9"
  }
 },
 "nbformat": 4,
 "nbformat_minor": 5
}
